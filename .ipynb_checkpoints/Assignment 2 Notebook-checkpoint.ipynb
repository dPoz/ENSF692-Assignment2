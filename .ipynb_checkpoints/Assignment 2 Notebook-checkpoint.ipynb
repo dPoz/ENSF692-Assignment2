{
 "cells": [
  {
   "cell_type": "code",
   "execution_count": 10,
   "id": "2f7c7622-dc79-47de-91c4-de3c72391372",
   "metadata": {},
   "outputs": [
    {
     "name": "stdout",
     "output_type": "stream",
     "text": [
      "\n",
      "***ENSF 692 Car Vision Detector Processing Program***\n",
      "\n",
      "Are changes are detected in the vision input?\n"
     ]
    },
    {
     "name": "stdin",
     "output_type": "stream",
     "text": [
      "Select 1 for light, 2 for pedestrian, 3 for vehicle, or 0 to end the program:  0\n"
     ]
    },
    {
     "ename": "SystemExit",
     "evalue": "",
     "output_type": "error",
     "traceback": [
      "An exception has occurred, use %tb to see the full traceback.\n",
      "\u001b[1;31mSystemExit\u001b[0m\n"
     ]
    }
   ],
   "source": [
    "# input_processing.py\n",
    "# David Pozniak, ENSF 692 P24\n",
    "# A terminal-based program for processing computer vision changes detected by a car.\n",
    "\n",
    "import sys\n",
    "\n",
    "class Sensor:\n",
    "\n",
    "    def __init__(self, light, person, vehicle):\n",
    "        self.state1 = [0 ,light , person, vehicle]\n",
    "\n",
    "    # update_status(self, change,change_to_what) takes itself, what to change (e.g. light, person, vehicle), and what it changes to and updates\n",
    "    # the state of the object to reflect those changes. It returns nothing, but modifies the properties of the object.\n",
    "    def update_status(self, change, change_to_what): \n",
    "        self.state1[change] = change_to_what\n",
    "\n",
    "# print_message(sensor) takes an object of class Sensor and prints out the required action, followed by the objects current state.\n",
    "# print_message(sensor) returns nothing.\n",
    "def print_message(sensor):\n",
    "    message = \"Light =\", sensor.state1[1], \", Pedestrian =\", sensor.state1[2], \", Vehicle =\", sensor.state1[3], \".\\n\"\n",
    "    if (sensor.state1[1] == \"green\" and sensor.state1[2] == \"no\" and sensor.state1[3] == \"no\"):\n",
    "        print(\"\\nProceed\\n\")\n",
    "        print(*message)\n",
    "    elif(sensor.state1[1] == \"yellow\" and sensor.state1[2] == \"no\" and sensor.state1[3] == \"no\"):\n",
    "        print(\"\\nCaution\\n\")\n",
    "        print(*message)\n",
    "    else:\n",
    "        print(\"\\nSTOP\\n\")\n",
    "        print(*message)\n",
    "\n",
    "# main() function is to provide a simple engine enabling Car Vision Detector Processing, it continuously monitors for any changes in\n",
    "# the state with respect to light, person, and vehicle, updates the state, and provides instructions based on the updated state.\n",
    "# main() function has 2 tuples and 1 object. The two tuples are used to validate \"vision\" input to enable  improper input handling\n",
    "# as required. The object is of class Sensor, with default \"Proceed\" state of \"green\", \"no\", \"no\", for light, person, vehicle, respectively.\n",
    "def main():\n",
    "    print(\"\\n***ENSF 692 Car Vision Detector Processing Program***\\n\")\n",
    "    \n",
    "    # Creating an object of type sensor with default state condition of: \"green\", \"no\", \"no\", for light, person, vehicle, respectively.\n",
    "    sense = Sensor(\"green\", \"no\", \"no\")\n",
    "    \n",
    "    # Both valid* tuples are to validate vision input, they are the only acceptable inputs.\n",
    "    validVisionChange = (\"green\", \"red\", \"yellow\", \"yes\", \"no\")\n",
    "    validVisionInput = (\"0\", \"1\", \"2\", \"3\")\n",
    "\n",
    "    # This is the primary while loop that allows continuous Car Vision Detector Processing, the only way to end the program is to enter 0.\n",
    "    while True:\n",
    "\n",
    "        change = \"\"\n",
    "\n",
    "        # The Car Vision Detector Processor continuously monitors for any valid vision input. If an invalid vision input is identified, the\n",
    "        # message \"You must select either 1, 2, 3, or 0.\", is printed.\n",
    "        while change not in validVisionInput:\n",
    "            print(\"Are changes are detected in the vision input?\")\n",
    "            change = input(\"Select 1 for light, 2 for pedestrian, 3 for vehicle, or 0 to end the program: \")\n",
    "            if change not in validVisionInput:\n",
    "                print(\"You must select either 1, 2, 3, or 0.\\n\")\n",
    "            \n",
    "        # exit if input is \"0\".\n",
    "        if change == \"0\": \n",
    "            sys.exit()\n",
    "        else:\n",
    "            change = int(change)\n",
    "\n",
    "        # Once valid input is detected, Car Vision Detector Processor identifies the new state.\n",
    "        change_to_what = input(\"What change has been identified?: \")\n",
    "\n",
    "        # exit if input is \"0\".\n",
    "        if change_to_what == \"0\": \n",
    "            sys.exit()\n",
    "\n",
    "        # If an invalid new state is identified, the message \"Invalid vision change\", followed by the instruction and current state, is printed.\n",
    "        if change_to_what in validVisionChange:\n",
    "            sense.update_status(change, change_to_what)\n",
    "        else:\n",
    "            print(\"Invalid vision change.\")\n",
    "\n",
    "        print_message(sense)\n",
    "\n",
    "if __name__ == '__main__':\n",
    "    main()"
   ]
  },
  {
   "cell_type": "code",
   "execution_count": null,
   "id": "f5e305ab-4397-4c25-bbb5-cd0ab9d807d9",
   "metadata": {},
   "outputs": [],
   "source": []
  }
 ],
 "metadata": {
  "kernelspec": {
   "display_name": "Python 3 (ipykernel)",
   "language": "python",
   "name": "python3"
  },
  "language_info": {
   "codemirror_mode": {
    "name": "ipython",
    "version": 3
   },
   "file_extension": ".py",
   "mimetype": "text/x-python",
   "name": "python",
   "nbconvert_exporter": "python",
   "pygments_lexer": "ipython3",
   "version": "3.11.7"
  }
 },
 "nbformat": 4,
 "nbformat_minor": 5
}
